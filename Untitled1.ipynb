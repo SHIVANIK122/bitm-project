{
 "cells": [
  {
   "cell_type": "code",
   "execution_count": 5,
   "id": "f4960aaa-eb49-46e3-95b3-cef0065ccca4",
   "metadata": {},
   "outputs": [
    {
     "name": "stdin",
     "output_type": "stream",
     "text": [
      " 4\n",
      " 4\n",
      " 3\n",
      " 3\n",
      " 3\n",
      " 3\n"
     ]
    },
    {
     "name": "stdout",
     "output_type": "stream",
     "text": [
      "4\n"
     ]
    }
   ],
   "source": [
    "n=int(input().strip())\n",
    "m=int(input())\n",
    "list=[(int(input().strip())) for i in range(n)]\n",
    "sum=0\n",
    "bus=0\n",
    "for i in range(n):\n",
    "    if(sum+list[i]>m):\n",
    "        aeroplane=aeroplane+1\n",
    "        sum=list[i]\n",
    "    else:\n",
    "        sum=sum+list[i]\n",
    "if(sum>0):\n",
    "    aeroplane=aeroplane+1\n",
    "print(bus)"
   ]
  },
  {
   "cell_type": "code",
   "execution_count": null,
   "id": "47042c3d-025e-4322-b062-2209d145da61",
   "metadata": {},
   "outputs": [],
   "source": [
    "n=int(input().strip())\n",
    "n=int(input())\n",
    "list=[(int(input().strip())) for i in range(n)]\n",
    "sum=0\n",
    "bus=0\n",
    "for i in range(n):\n",
    "    if (sum+list[i]>n):\n",
    "        bus=bus+1\n",
    "        sum=list[i]\n",
    "    else:\n",
    "        sum=sum+list[i]\n",
    "if(sum>0):\n",
    "    bus=bus+1\n",
    "    print(bus)"
   ]
  },
  {
   "cell_type": "code",
   "execution_count": null,
   "id": "1fc07d0a-6c0b-4a32-8156-499d4defe934",
   "metadata": {},
   "outputs": [],
   "source": [
    "single level inheritance to print number of two elements"
   ]
  },
  {
   "cell_type": "code",
   "execution_count": null,
   "id": "76000a38-16d3-4f62-aa17-4e97ffa6ba35",
   "metadata": {},
   "outputs": [],
   "source": [
    "a=int(input())\n",
    "b=int(input())\n",
    "class parent:\n",
    "    def sun(self,a,b):\n",
    "        self.a=a\n",
    "        self.b=b\n",
    "        print(\"sum=\",self.a+self.b)\n",
    "class child(parent):\n",
    "    def son(self):\n",
    "        print(\"you are in child class\")\n",
    "o=child()\n",
    "o.sum(a,b)\n",
    "o.son()"
   ]
  },
  {
   "cell_type": "code",
   "execution_count": null,
   "id": "b5e76277-f6f8-418e-aec8-b84288aaae31",
   "metadata": {},
   "outputs": [],
   "source": []
  }
 ],
 "metadata": {
  "kernelspec": {
   "display_name": "Python 3 (ipykernel)",
   "language": "python",
   "name": "python3"
  },
  "language_info": {
   "codemirror_mode": {
    "name": "ipython",
    "version": 3
   },
   "file_extension": ".py",
   "mimetype": "text/x-python",
   "name": "python",
   "nbconvert_exporter": "python",
   "pygments_lexer": "ipython3",
   "version": "3.11.7"
  }
 },
 "nbformat": 4,
 "nbformat_minor": 5
}
