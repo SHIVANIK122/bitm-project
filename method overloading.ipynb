{
 "cells": [
  {
   "cell_type": "code",
   "execution_count": 9,
   "id": "cb34dcd1-0229-493c-8130-10001b3268a7",
   "metadata": {},
   "outputs": [
    {
     "name": "stdout",
     "output_type": "stream",
     "text": [
      "12\n",
      "17.204\n"
     ]
    }
   ],
   "source": [
    "from multipledispatch import dispatch\n",
    "def product(first, second, third):\n",
    "    result = first * second * third\n",
    "    print(result)\n",
    "def product(first, second, third):\n",
    "    result = first * second * third\n",
    "    print(result)\n",
    "product(2, 3, 2)\n",
    "product(2.2, 3.4, 2.3)\n"
   ]
  },
  {
   "cell_type": "code",
   "execution_count": 16,
   "id": "84d03b95-54da-4f17-acf2-6f9230abf3a5",
   "metadata": {},
   "outputs": [
    {
     "name": "stdout",
     "output_type": "stream",
     "text": [
      "inside grand child\n",
      "inside grand child\n"
     ]
    }
   ],
   "source": [
    "class parent():\n",
    "    def show(self):\n",
    "        print(\"inside parent\")\n",
    "class child(parent):\n",
    "    def show(self):\n",
    "        print(\"inside child\")\n",
    "class grandchild(child):\n",
    "    def show(self):\n",
    "        print(\"inside grand child\")\n",
    "g=grandchild()\n",
    "g.show()\n",
    "g.show()"
   ]
  },
  {
   "cell_type": "code",
   "execution_count": 27,
   "id": "a8631e9b-3a9a-43ad-ac27-ee4993799773",
   "metadata": {},
   "outputs": [
    {
     "name": "stdout",
     "output_type": "stream",
     "text": [
      "New Delhi is capital of India.\n",
      "Hindi is the most widely spoken language of India.\n",
      "India is developing country.\n",
      "Washington, D.C. is the capital of USA.\n",
      "english is the primary language of USA.\n",
      "USA is a developed country.\n"
     ]
    }
   ],
   "source": [
    "class Italy():\n",
    "    def capital(self):\n",
    "        print(\"Rome is capital of India.\")\n",
    "        \n",
    "    def language(self):\n",
    "        print(\"Italian is the most widely spoken language of India.\")\n",
    "\n",
    "    def type(self):\n",
    "        print(\"Italy is developed country.\")\n",
    "\n",
    "class USA():\n",
    "    def capital(self):\n",
    "        print(\"Washington, D.C. is the capital of USA.\")\n",
    "\n",
    "    def language(self):\n",
    "        print(\"english is the primary language of USA.\")\n",
    "\n",
    "    def type(self):\n",
    "        print(\"USA is a developed country.\")\n",
    "\n",
    "obj_ita=ITALY()\n",
    "obj_usa=USA()\n",
    "for country in (obj_ind, obj_usa):\n",
    "    country.capital()\n",
    "    country.language()\n",
    "    country.type()\n",
    "        \n"
   ]
  },
  {
   "cell_type": "code",
   "execution_count": 36,
   "id": "bdcd9efc-6bd9-4a07-9777-02b987fc4c96",
   "metadata": {},
   "outputs": [
    {
     "name": "stdout",
     "output_type": "stream",
     "text": [
      "Rome is capital of Italy.\n",
      "Italian is the most widely spoken language of Italy.\n",
      "Italy is developed country.\n",
      "Berlin is the capital of Germany.\n",
      "German is the primary language of Germany.\n",
      "Germany is a developed country.\n"
     ]
    }
   ],
   "source": [
    "class Italy():\n",
    "    def capital(self):\n",
    "        print(\"Rome is capital of Italy.\")\n",
    "        \n",
    "    def language(self):\n",
    "        print(\"Italian is the most widely spoken language of Italy.\")\n",
    "\n",
    "    def type(self):\n",
    "        print(\"Italy is developed country.\")\n",
    "        \n",
    "class Germany():\n",
    "    def capital(self):\n",
    "        print(\"Berlin is the capital of Germany.\")\n",
    "\n",
    "    def language(self):\n",
    "        print(\"German is the primary language of Germany.\")\n",
    "\n",
    "    def type(self):\n",
    "        print(\"Germany is a developed country.\")\n",
    "\n",
    "obj_ita=Italy()\n",
    "obj_ger=Germany()\n",
    "for country in (obj_ita, obj_ger):\n",
    "    country.capital()\n",
    "    country.language()\n",
    "    country.type()\n"
   ]
  },
  {
   "cell_type": "code",
   "execution_count": 53,
   "id": "f75b8761-e7e8-47a9-9860-cff51d9a7995",
   "metadata": {},
   "outputs": [
    {
     "name": "stdout",
     "output_type": "stream",
     "text": [
      "a\n",
      "b\n",
      "c\n",
      "d\n",
      "after removing nodes\n",
      "a\n",
      "b\n"
     ]
    }
   ],
   "source": [
    "class Node:\n",
    "    def __init__(self,data):\n",
    "        self.data=data\n",
    "        self.next=None\n",
    "class LinkedList:\n",
    "    def __init__(self):\n",
    "        self.head=None\n",
    "    \n",
    "    def inserAtBegin(self,data):\n",
    "        new_node=Node(data)\n",
    "        if self.head is None:\n",
    "            self.heas=new_node\n",
    "            return\n",
    "        else:\n",
    "            new_node.next=self.head\n",
    "            self.head=new_node\n",
    "    def InsertAtIndex(self,data,index):\n",
    "        new_node=Node(data)\n",
    "        current_node=self.head\n",
    "        position=0\n",
    "        if position==index:\n",
    "            self.InsertAtBegin(data)\n",
    "        else:\n",
    "            while(current_node != None and position+1 !=index):\n",
    "                position=position+1\n",
    "                current_node=current_node.next\n",
    "            if current_node !=None:\n",
    "                new_node.next=current_node.next\n",
    "                current_node.next=new_node\n",
    "            else:\n",
    "                print(\"index not present\")\n",
    "    def insertAtEnd(self,data):\n",
    "            new_node=Node(data)\n",
    "            if self.head is None:\n",
    "                self.head=new_node\n",
    "                return\n",
    "            current_node=self.head\n",
    "            while(current_node.next):\n",
    "                current_node=current_node.next\n",
    "            current_node.next=new_node\n",
    "    def updateNode(sel,val,index):\n",
    "        current_node=self.head\n",
    "        position=0\n",
    "        if position==index:\n",
    "            current_node.data=val\n",
    "        else:\n",
    "            print(\"index is not predent\")\n",
    "    def remove_first_node(self):\n",
    "        if self.head is None:\n",
    "            return\n",
    "        current_node=self.head\n",
    "        while(current_node.next.next):\n",
    "            current_node=current_node.next\n",
    "        current_node.next=None\n",
    "    def printLL(self):\n",
    "        current_node=self.head\n",
    "        while(current_node):\n",
    "            print(current_node.data)\n",
    "            current_node=current_node.next\n",
    "llist=LinkedList()\n",
    "llist.insertAtEnd('a')\n",
    "llist.insertAtEnd('b')\n",
    "llist.insertAtEnd('c')\n",
    "llist.insertAtEnd('d')\n",
    "llist.printLL()\n",
    "llist.remove_first_node()\n",
    "llist.remove_first_node()\n",
    "print(\"after removing nodes\")\n",
    "llist.printLL()\n",
    "\n",
    "\n",
    "\n",
    "\n",
    "            "
   ]
  },
  {
   "cell_type": "code",
   "execution_count": null,
   "id": "ec91eea4-64d9-4706-85a3-cc3a67fb2135",
   "metadata": {},
   "outputs": [],
   "source": []
  }
 ],
 "metadata": {
  "kernelspec": {
   "display_name": "Python 3 (ipykernel)",
   "language": "python",
   "name": "python3"
  },
  "language_info": {
   "codemirror_mode": {
    "name": "ipython",
    "version": 3
   },
   "file_extension": ".py",
   "mimetype": "text/x-python",
   "name": "python",
   "nbconvert_exporter": "python",
   "pygments_lexer": "ipython3",
   "version": "3.11.7"
  }
 },
 "nbformat": 4,
 "nbformat_minor": 5
}
