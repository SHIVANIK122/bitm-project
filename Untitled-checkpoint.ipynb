{
 "cells": [
  {
   "cell_type": "code",
   "execution_count": null,
   "id": "ec6f66f4-bbec-4e30-826c-e147f7f8d8ca",
   "metadata": {},
   "outputs": [],
   "source": [
    "write a program to print hallow square pattren\n",
    "samle input:4\n",
    "out put:\n",
    "****\n",
    "*  *\n",
    "*  *\n",
    "****"
   ]
  },
  {
   "cell_type": "code",
   "execution_count": 4,
   "id": "ac4f0d3b-8d9d-480c-aad6-12eef6e8e31b",
   "metadata": {},
   "outputs": [
    {
     "name": "stdout",
     "output_type": "stream",
     "text": [
      "****\n",
      "*   *\n",
      "*   *\n",
      "****\n"
     ]
    }
   ],
   "source": [
    "n=4\n",
    "for i in range(4):\n",
    "    if i==0 or i==n-1:\n",
    "        print('*'*n)\n",
    "    else:\n",
    "        print('*' + ' '*(n-1) +  '*')\n"
   ]
  },
  {
   "cell_type": "code",
   "execution_count": null,
   "id": "64ad09e3-4049-4da3-af39-1d441a52e943",
   "metadata": {},
   "outputs": [],
   "source": []
  },
  {
   "cell_type": "code",
   "execution_count": null,
   "id": "5dbc32e1-bd1a-41de-87ff-f7c48468621e",
   "metadata": {},
   "outputs": [],
   "source": []
  }
 ],
 "metadata": {
  "kernelspec": {
   "display_name": "Python 3 (ipykernel)",
   "language": "python",
   "name": "python3"
  },
  "language_info": {
   "codemirror_mode": {
    "name": "ipython",
    "version": 3
   },
   "file_extension": ".py",
   "mimetype": "text/x-python",
   "name": "python",
   "nbconvert_exporter": "python",
   "pygments_lexer": "ipython3",
   "version": "3.11.7"
  }
 },
 "nbformat": 4,
 "nbformat_minor": 5
}
