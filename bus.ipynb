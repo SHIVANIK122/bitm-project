{
 "cells": [
  {
   "cell_type": "code",
   "execution_count": 1,
   "id": "dd48b1c2-feea-4a7c-8135-0b0a9590de61",
   "metadata": {},
   "outputs": [
    {
     "name": "stdin",
     "output_type": "stream",
     "text": [
      " 10\n"
     ]
    },
    {
     "name": "stdout",
     "output_type": "stream",
     "text": [
      "0\n",
      "1\n",
      "2\n",
      "3\n",
      "4\n",
      "5\n",
      "6\n",
      "7\n",
      "8\n",
      "9\n"
     ]
    }
   ],
   "source": [
    "n=int(input())\n",
    "for i in range(0,n,1):\n",
    "    print(i)"
   ]
  },
  {
   "cell_type": "code",
   "execution_count": 1,
   "id": "8a07e5df-a914-4e73-8218-9c31c7a93240",
   "metadata": {},
   "outputs": [
    {
     "name": "stdin",
     "output_type": "stream",
     "text": [
      " 2\n",
      " 4\n",
      " 6\n"
     ]
    },
    {
     "name": "stdout",
     "output_type": "stream",
     "text": [
      "treassure is in box no 6\n",
      "key to open the box is 2\n"
     ]
    }
   ],
   "source": [
    "b1=int(input())\n",
    "b2=int(input())\n",
    "b3=int(input())\n",
    "if(b1>b2 and b1>b3):\n",
    "    print(\"treasurre is in box no\",b1)\n",
    "elif(b2>b1 and b2>b3):\n",
    "    print(\"treassure is in box no\",b2)\n",
    "else:\n",
    "    print(\"treassure is in box no\",b3)\n",
    "for i in range(1,10):\n",
    "    if(b1%i==0 and b2%i==0 and b3%i==0):\n",
    "        key=i\n",
    "print(\"key to open the box is\",key)"
   ]
  },
  {
   "cell_type": "code",
   "execution_count": null,
   "id": "c11ce372-6606-441a-b740-423e45f8cab9",
   "metadata": {},
   "outputs": [],
   "source": [
    "write the program to find weather the given input is strong number or not for example 145 is a strong number !1+!4+!5=145"
   ]
  },
  {
   "cell_type": "code",
   "execution_count": 2,
   "id": "e2b45c05-7acd-4606-a136-a8179aec97b8",
   "metadata": {},
   "outputs": [
    {
     "name": "stdin",
     "output_type": "stream",
     "text": [
      " 149\n"
     ]
    },
    {
     "name": "stdout",
     "output_type": "stream",
     "text": [
      "0\n"
     ]
    }
   ],
   "source": [
    "n=int(input())\n",
    "sum=0\n",
    "while(n>0):\n",
    "    m=n%10\n",
    "    c=0\n",
    "    while(m>0):\n",
    "        c=m*m-1\n",
    "        m=m-1\n",
    "    sum=sum+m\n",
    "    n=n//10\n",
    "print(sum)"
   ]
  },
  {
   "cell_type": "code",
   "execution_count": 3,
   "id": "67246467-5be7-4c92-8772-a1bef183482d",
   "metadata": {},
   "outputs": [
    {
     "name": "stdin",
     "output_type": "stream",
     "text": [
      " 6\n"
     ]
    },
    {
     "name": "stdout",
     "output_type": "stream",
     "text": [
      "720\n"
     ]
    }
   ],
   "source": [
    "m=int(input())\n",
    "c=1\n",
    "while(m>1):\n",
    "    c=c*m\n",
    "    m=m-1\n",
    "sum=m+c\n",
    "print(c)"
   ]
  },
  {
   "cell_type": "code",
   "execution_count": 4,
   "id": "2c6663b3-6256-4f0d-9737-204f9c894270",
   "metadata": {},
   "outputs": [
    {
     "ename": "SyntaxError",
     "evalue": "Missing parentheses in call to 'print'. Did you mean print(...)? (1815789236.py, line 1)",
     "output_type": "error",
     "traceback": [
      "\u001b[1;36m  Cell \u001b[1;32mIn[4], line 1\u001b[1;36m\u001b[0m\n\u001b[1;33m    write a program to print sum of the digit till single digit\u001b[0m\n\u001b[1;37m                       ^\u001b[0m\n\u001b[1;31mSyntaxError\u001b[0m\u001b[1;31m:\u001b[0m Missing parentheses in call to 'print'. Did you mean print(...)?\n"
     ]
    }
   ],
   "source": [
    "write a program to print sum of the digit till single digit\n",
    "sample input:24\n",
    "output:6"
   ]
  },
  {
   "cell_type": "code",
   "execution_count": 13,
   "id": "913a31e9-5efb-477a-97c4-3ca520d6c707",
   "metadata": {},
   "outputs": [
    {
     "name": "stdout",
     "output_type": "stream",
     "text": [
      "manu sneha sanjana\n"
     ]
    }
   ],
   "source": [
    "class civil:\n",
    "    def momin(self,n1,n2,n3):\n",
    "        self.n1=n1\n",
    "        self.n2=n2\n",
    "        self.n3=n3\n",
    "        print(n1,n2,n3)\n",
    "obj=civil()\n",
    "obj.momin(\"manu\",\"sneha\",\"sanjana\")"
   ]
  },
  {
   "cell_type": "code",
   "execution_count": null,
   "id": "c23eff0c-c99c-44ce-a14e-0bd9ded4f64b",
   "metadata": {},
   "outputs": [],
   "source": [
    "shivani and manu were creating a time machine shivu can do a certain machine in hours,minuites,seconds shivu also can do diffrent work in minutes and seconds now help the einstien to \n",
    "output:"
   ]
  },
  {
   "cell_type": "code",
   "execution_count": null,
   "id": "ee32af73-2615-4398-9176-5b9122496d16",
   "metadata": {},
   "outputs": [
    {
     "name": "stdin",
     "output_type": "stream",
     "text": [
      " 145\n",
      " \n"
     ]
    }
   ],
   "source": [
    "h1=int(input())\n",
    "m1=int(input())\n",
    "s1=int(input())\n",
    "h2=int(input())\n",
    "m2=int(input())\n",
    "s2=int(input())\n",
    "class clock:\n",
    "    def time(self,th,tm,ts):\n",
    "        self.th=th\n",
    "        self.tm=tm\n",
    "        self.ts=ts\n",
    "        print(th,\":\",tm,\":\",ts)\n",
    "th=(h1+h2)+((m1+m2)+(s1+s2)//60)//60\n",
    "tm=((m1+m2)+(s1+s2)//60)%60\n",
    "ts=(s1+s2)%60\n",
    "obj=clock()\n",
    "obj.time(th,tm,ts)"
   ]
  },
  {
   "cell_type": "raw",
   "id": "aed22d56-6c21-4f7a-a550-5098b88d02a4",
   "metadata": {},
   "source": [
    "n=int(input().strip())\n",
    "arr=[int(input().strip()) for i in range(n)]\n",
    "temp=0\n",
    "for i in range(0,n):\n",
    "     for j in range(i,n):\n",
    "        if(arr[i]>arr[j]):\n",
    "            temp=arr[i]\n",
    "            arr[i]=arr[j]\n",
    "            arr[j]=temp\n",
    "for i in range(0,n):\n",
    "    print(arr[i])"
   ]
  },
  {
   "cell_type": "code",
   "execution_count": 1,
   "id": "a08252c9-2525-4837-a5b0-b7640d73cfb5",
   "metadata": {},
   "outputs": [
    {
     "name": "stdout",
     "output_type": "stream",
     "text": [
      "we are in parent class\n",
      "we are in child class\n"
     ]
    }
   ],
   "source": [
    "class parent:\n",
    "    def a(self):\n",
    "        print(\"we are in parent class\")\n",
    "class child(parent):\n",
    "    def b(self):\n",
    "        print(\"we are in child class\")\n",
    "obj2=child()\n",
    "obj2.a()\n",
    "obj2.b()"
   ]
  },
  {
   "cell_type": "code",
   "execution_count": 9,
   "id": "9597c32e-7ba2-4896-aadd-772339b4a1e3",
   "metadata": {},
   "outputs": [],
   "source": [
    "class grandfather:\n",
    "    def grand (self):\n",
    "        print(\"grandfather\")\n",
    "class father:\n",
    "    def dad(self):\n",
    "        print(\"my dad\")\n",
    "class mother:\n",
    "    def mom(self):\n",
    "        print(\"my mom\")\n",
    "class child1(mother):\n",
    "    def daughter(self):\n",
    "        print(\"daughter\")\n",
    "class child2(child1):\n",
    "    def a(self):\n",
    "        print(\"child2\")\n",
    "class child3(child2):\n",
    "    def b(self):\n",
    "        print(\"child3\")\n",
    "c=child()\n",
    "        \n"
   ]
  },
  {
   "cell_type": "code",
   "execution_count": 6,
   "id": "d497c0da-a9bf-4a4a-b38b-1b59903220ad",
   "metadata": {},
   "outputs": [
    {
     "ename": "TypeError",
     "evalue": "int() argument must be a string, a bytes-like object or a real number, not 'method'",
     "output_type": "error",
     "traceback": [
      "\u001b[1;31m---------------------------------------------------------------------------\u001b[0m",
      "\u001b[1;31mTypeError\u001b[0m                                 Traceback (most recent call last)",
      "Cell \u001b[1;32mIn[6], line 1\u001b[0m\n\u001b[1;32m----> 1\u001b[0m n\u001b[38;5;241m=\u001b[39m\u001b[38;5;28mint\u001b[39m(\u001b[38;5;28minput\u001b[39m)()\u001b[38;5;241m.\u001b[39mstrip()\n\u001b[0;32m      2\u001b[0m m\u001b[38;5;241m=\u001b[39m\u001b[38;5;28mint\u001b[39m(\u001b[38;5;28minput\u001b[39m())\n\u001b[0;32m      3\u001b[0m \u001b[38;5;28mlist\u001b[39m\u001b[38;5;241m=\u001b[39m[(\u001b[38;5;28mint\u001b[39m(\u001b[38;5;28minput\u001b[39m()\u001b[38;5;241m.\u001b[39mstrip())) \u001b[38;5;28;01mfor\u001b[39;00m i \u001b[38;5;129;01min\u001b[39;00m \u001b[38;5;28mrange\u001b[39m(n)]\n",
      "\u001b[1;31mTypeError\u001b[0m: int() argument must be a string, a bytes-like object or a real number, not 'method'"
     ]
    }
   ],
   "source": [
    "n=int(input)().strip()\n",
    "m=int(input())\n",
    "list=[(int(input().strip())) for i in range(n)]\n",
    "rem=m\n",
    "bus=0\n",
    "for i in range(0,n):\n",
    "    if(list[i]>m):\n",
    "        bus=bus+1\n",
    "        rem=m\n",
    "        rem=rem-list[i]\n",
    "if(rem<m):\n",
    "    bus=bus+1\n",
    "    print(bus)"
   ]
  },
  {
   "cell_type": "code",
   "execution_count": null,
   "id": "0b7bfda8-d685-45b3-ac16-17cd8c2b6329",
   "metadata": {},
   "outputs": [],
   "source": []
  },
  {
   "cell_type": "code",
   "execution_count": null,
   "id": "5dc2e6bc-298d-4977-9af4-c01dc1d9310c",
   "metadata": {},
   "outputs": [],
   "source": []
  }
 ],
 "metadata": {
  "kernelspec": {
   "display_name": "Python 3 (ipykernel)",
   "language": "python",
   "name": "python3"
  },
  "language_info": {
   "codemirror_mode": {
    "name": "ipython",
    "version": 3
   },
   "file_extension": ".py",
   "mimetype": "text/x-python",
   "name": "python",
   "nbconvert_exporter": "python",
   "pygments_lexer": "ipython3",
   "version": "3.11.7"
  }
 },
 "nbformat": 4,
 "nbformat_minor": 5
}
